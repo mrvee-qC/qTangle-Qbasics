{
 "cells": [
  {
   "cell_type": "markdown",
   "id": "2f60a552-59cf-4564-860e-daf330604e25",
   "metadata": {},
   "source": [
    "# QTangle | Mini-Game |  Rock Paper Scissors with a Quantum Computer!\n",
    "## Setting up input"
   ]
  },
  {
   "cell_type": "code",
   "execution_count": 6,
   "id": "987d1712-bbd9-4470-92dd-267a24d20c87",
   "metadata": {},
   "outputs": [],
   "source": [
    "def human_player():\n",
    "    # Lets start with setting our options\n",
    "    choices = {\n",
    "        \"rock\": 1, \n",
    "        \"paper\": 2,\n",
    "        \"scissors\": 3\n",
    "    }\n",
    "\n",
    "    # Introductory comments\n",
    "    print(\"Welcome to Quantum Rock Paper Scissors\")\n",
    "    print(\"Lets see who will win this game!\")\n",
    "    print(\"Enter your choice\", end =\"\\n\\n\")\n",
    "    \n",
    "    choice_index = None\n",
    "    # Enter user choice\n",
    "    while (choice_index == None):\n",
    "        user_choice = input(\"Rock, Paper or Scissors?\").lower()\n",
    "        choice_index = choices.get(user_choice)\n",
    "    print(\"Your Choice\", choice_index)\n",
    "    return choice_index"
   ]
  },
  {
   "cell_type": "markdown",
   "id": "c2f226f7-b0d3-40ff-8001-9a04c8807550",
   "metadata": {},
   "source": [
    "# Let's set up out Quantum Player!"
   ]
  },
  {
   "cell_type": "code",
   "execution_count": 7,
   "id": "ff820045-3367-41a1-972e-83f1f55942ef",
   "metadata": {},
   "outputs": [],
   "source": [
    "def quantum_computer_player():\n",
    "    import numpy as np\n",
    "    from math import pi\n",
    "    from qiskit import QuantumCircuit, execute, Aer, ClassicalRegister, QuantumRegister\n",
    "\n",
    "    qr = QuantumRegister(2, name=\"qubit\")\n",
    "    cr = ClassicalRegister(2, name = \"ouput\")\n",
    "    circuit = QuantumCircuit(qr,cr, name = \"quantum\")\n",
    "\n",
    "    circuit.h(qr[0])\n",
    "    circuit.h(qr[1])\n",
    "\n",
    "    circuit.measure(qr,cr)\n",
    "\n",
    "    circuit.draw(output=\"mpl\")\n",
    "\n",
    "    while(True):\n",
    "\n",
    "        # Set Backend\n",
    "        backend = Aer.get_backend(\"qasm_simulator\")\n",
    "        job = execute(circuit,backend, shots = 1)\n",
    "        result = job.result()\n",
    "\n",
    "        # Convert results to integer\n",
    "        counts = result.get_counts()\n",
    "        output = list(counts.keys())[0]\n",
    "\n",
    "        quantum_player = int(output, 2)\n",
    "\n",
    "        if (quantum_player != 0):\n",
    "            print(\"Quantum Players Choice\", quantum_player)\n",
    "            break;\n",
    "    \n",
    "    return quantum_player\n"
   ]
  },
  {
   "cell_type": "markdown",
   "id": "28be63bd-abff-4f1c-b0cc-fdd0bb3edd26",
   "metadata": {},
   "source": [
    "# Set up conditions for game"
   ]
  },
  {
   "cell_type": "code",
   "execution_count": 10,
   "id": "0783384b-7173-441f-8d13-748bcf1e4bbf",
   "metadata": {},
   "outputs": [],
   "source": [
    "# Format (Quantum_computer, You)\n",
    "def play_game():\n",
    "    \n",
    "    Result = {\n",
    "        (1,3) : \"Rock beats Scissors! Quantum Player win! :p\",\n",
    "        (2,1) : \"Paper beats Rock! Tough luck!\",\n",
    "        (3,2) : \"Scissors beat Paper! Quantum Player wins! :p\",\n",
    "        (3,1) : \"Rock beats Scissors! You win :) \",\n",
    "        (1,2) : \"Paper beats Rock! Quantum Player lost!\",\n",
    "        (2,3) : \"Scissors beat Paper! You win!\"\n",
    "    }\n",
    "    \n",
    "    human_choice = human_player()\n",
    "    print(\"Quantum Player is choosing\")\n",
    "    quantum_player = quantum_computer_player()\n",
    "    \n",
    "    \n",
    "    return (Result.get((quantum_player, human_choice), \"It's a draw!\"))"
   ]
  },
  {
   "cell_type": "code",
   "execution_count": 11,
   "id": "fcddb649-5ccc-4592-930a-f93afd99a1dc",
   "metadata": {},
   "outputs": [
    {
     "name": "stdout",
     "output_type": "stream",
     "text": [
      "Welcome to Quantum Rock Paper Scissors\n",
      "Lets see who will win this game!\n",
      "Enter your choice\n",
      "\n",
      "Rock, Paper or Scissors?Paper\n",
      "Your Choice 2\n",
      "Quantum Player is choosing\n",
      "Quantum Players Choice 1\n"
     ]
    },
    {
     "data": {
      "text/plain": [
       "'Paper beats Rock! Quantum Player lost!'"
      ]
     },
     "execution_count": 11,
     "metadata": {},
     "output_type": "execute_result"
    }
   ],
   "source": [
    "play_game()"
   ]
  },
  {
   "cell_type": "code",
   "execution_count": null,
   "id": "5fc22cca-e61a-4bbe-878b-7a5fcd532f31",
   "metadata": {},
   "outputs": [],
   "source": []
  }
 ],
 "metadata": {
  "kernelspec": {
   "display_name": "Python 3",
   "language": "python",
   "name": "python3"
  },
  "language_info": {
   "codemirror_mode": {
    "name": "ipython",
    "version": 3
   },
   "file_extension": ".py",
   "mimetype": "text/x-python",
   "name": "python",
   "nbconvert_exporter": "python",
   "pygments_lexer": "ipython3",
   "version": "3.8.10"
  }
 },
 "nbformat": 4,
 "nbformat_minor": 5
}
