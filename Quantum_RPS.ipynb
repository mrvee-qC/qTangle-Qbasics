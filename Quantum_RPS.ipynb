{
 "cells": [
  {
   "cell_type": "markdown",
   "id": "a0b4fd2e",
   "metadata": {},
   "source": [
    "# QTangle | Mini-Game |  Rock Paper Scissors with a Quantum Computer!\n",
    "## Setting up input (us)"
   ]
  },
  {
   "cell_type": "code",
   "execution_count": null,
   "id": "767ad224",
   "metadata": {},
   "outputs": [],
   "source": [
    "def human_player():\n",
    "    # Choices\n",
    "    choices = {\n",
    "        \"rock\": 1,\n",
    "        \"paper\": 2,\n",
    "        \"scissors\": 3\n",
    "    }\n",
    "\n",
    "   # Enter your code"
   ]
  },
  {
   "cell_type": "markdown",
   "id": "44929644",
   "metadata": {},
   "source": [
    "# Let's set up out Quantum Player!"
   ]
  },
  {
   "cell_type": "code",
   "execution_count": null,
   "id": "1c1c2f74",
   "metadata": {},
   "outputs": [],
   "source": [
    "def quantum_computer_player():\n",
    "    \n",
    "    import numpy as np\n",
    "    from math import pi\n",
    "    from qiskit import QuantumCircuit, execute, Aer, ClassicalRegister, QuantumRegister\n",
    "\n",
    "    # Enter your code\n"
   ]
  },
  {
   "cell_type": "markdown",
   "id": "6ae9c24a",
   "metadata": {},
   "source": [
    "# Set up conditions for game"
   ]
  },
  {
   "cell_type": "code",
   "execution_count": null,
   "id": "576e1bc5",
   "metadata": {},
   "outputs": [],
   "source": [
    "# Format (Quantum_computer, You)\n",
    "\n",
    "def play_game():\n",
    "    \n",
    " # Enter your code"
   ]
  },
  {
   "cell_type": "markdown",
   "id": "c10baa5c",
   "metadata": {},
   "source": [
    "# Lets play!"
   ]
  },
  {
   "cell_type": "code",
   "execution_count": null,
   "id": "5aab4b27",
   "metadata": {},
   "outputs": [],
   "source": [
    "play_game()"
   ]
  },
  {
   "cell_type": "code",
   "execution_count": null,
   "id": "a789c857",
   "metadata": {},
   "outputs": [],
   "source": []
  }
 ],
 "metadata": {
  "kernelspec": {
   "display_name": "Python 3",
   "language": "python",
   "name": "python3"
  },
  "language_info": {
   "codemirror_mode": {
    "name": "ipython",
    "version": 3
   },
   "file_extension": ".py",
   "mimetype": "text/x-python",
   "name": "python",
   "nbconvert_exporter": "python",
   "pygments_lexer": "ipython3",
   "version": "3.8.10"
  }
 },
 "nbformat": 4,
 "nbformat_minor": 5
}
